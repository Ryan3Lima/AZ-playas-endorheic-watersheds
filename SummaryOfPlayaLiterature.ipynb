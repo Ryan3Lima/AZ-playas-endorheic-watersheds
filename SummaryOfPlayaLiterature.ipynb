{
 "cells": [
  {
   "cell_type": "raw",
   "id": "initial_id",
   "metadata": {
    "collapsed": true,
    "vscode": {
     "languageId": "raw"
    }
   },
   "source": [
    "---\n",
    "title: \"Recharge in Endorheic Basins and Playas in Arizona\"\n",
    "description: \"Summary of the literature on the recharge potential of endorheic basins and playas in Arizona.\"\n",
    "author: \"Ryan Lima\"\n",
    "date: \"6/07/2025\"\n",
    "---"
   ]
  },
  {
   "cell_type": "markdown",
   "id": "1a9d349b",
   "metadata": {},
   "source": [
    "## Introduction\n",
    "\n",
    "Endorheic basins, also known as closed basins (or terminal basins) are regions where surface drainage is terminal or landlocked [Wang et al., 2020](https://onlinelibrary.wiley.com/doi/10.1002/9781118786352.wbieg2001). They comprise about 1/5 of the earths land area but nearly half of the land area in water stressed regions [Wang et al., 2018](10.1038/s41561-018-0265-7). Globally, endorheic basins have experienced significant reductions in total water storage, losing about 106.6 Gt/year of water storage from 2002 - 2016 [Wang et al., 2018](10.1038/s41561-018-0265-7). \n",
    "\n",
    "Closed basins offer a unique opportunity in the Western U.S. because generally all water that these basins is either evaporated, transpired, or recharges groundwater. Seldom is water from these arid closed basins exported and while water rights claims may exist within these basins, changes to the water balance will not affect water rights in the Colorado River or its tributaries, so reductions in water use or evaporation can be recharged without affecting water rights in the Colorado River system. In Arizona endorheic basins cover approximatly 43,400 square kilometers or about 15% of it's land area. This literature review was aimed at identify opportunities to enhance groundwater recharge which might be applicable in Arizona's endorheic basins. \n",
    "\n",
    "## Playas\n",
    "\n",
    "Playas are topgraphic low points within closed dryland catchments [McKenna and Sala, 2018](10.1088/1748-9326/aa9eb6). They are typically shallow,  circular depresions with clay-lined floors. Playas often form ephemeral or temporary lakes or wetlands and are important wetland habitats, particularly for migratory birds [Frus et al., 2025](https://doi.org/10.5066/P9Q9LQ4B). We found 301 playas in Arizona by querying the National Hydrologic Dataset (NHD) covering a combined area of about 221 square kilometers. \n",
    "\n",
    "For a long time it was assumed that very little recharge occurs through playas, due to their clay-rich floors, it was assumed that all water flowing into these playas would be lost to evaporation. One study found that a 100 acre playa in Texas would lost an average of 600 gallons a minute to evaporation during the month of July [Valliant 1975](). However studies examining recharge rates beneath playas on the high plains overlying the Ogallala aquifer found that recharge rates ranged from 0.01 inches per year up to and exceeding 10 inches per year and exceeded recharge rates in the area surrounding inter-playa areas [Gaurdak and Roe 2009](https://pubs.usgs.gov/circ/1333/pdf/C1333.pdf). In the more arid Jornada Basin near Las Cruces, NM recharge rates were estimated and they found that recharge occured under all 15 sampled playas with an average recharge of 6mm per year or 2% of annual rainfall in the study area [McKenna and Sala, 2018](10.1088/1748-9326/aa9eb6). The New Mexico Study suggested that increased rainfall variability with climate change may enhance playa recharge rates despite reductions in average annual rainfall, because only the largest rainfall events produced runoff which indundated the playas. One proposed causal mechanism for enhanced recharge through playa floors is that during dry periods the clay rich floors crack, allowing water to percolate through the cracks and recharge the underlying aquifer [Guardak and Roe 2009](https://pubs.usgs.gov/circ/1333/pdf/C1333.pdf). However, an analysis by the Texas Water Development board found that while cracks in playa floors led to enhanced infiltration, most of that water is stored in the top 3 meters of soil beneath the playa and still subject to evaporation [Weinberg et al., 2021](NO LINK)\n",
    "\n",
    "The largest playa in Arizona is the Willcox playa in the Sulphur Spring Valley of South Eastern Arizona covering an area of about 126 Square kilometers, followed by Redlake Playa in the Hualupai Valley of North Western Arizona covering an area of about 54 square kilometers. Groundwater levels in the basins below both of these playas have been in decline due to groundwater use for irrigation [Knight et al., 2021; Scanlon et al., 2025](10.1038/s43247-025-02149-9). In the Willcox bains 20 - 50m declines in groundwater level have been observed and as a result the ground has subsided up to 3 meteres during the last 65 years [Scanlon et al., 2025](10.1038/s43247-025-02149-9).  \n",
    "\n",
    "\n",
    "## Enhancing Recharge \n",
    "\n",
    "A number of studies, particularly in the high plains, examined the potential for enhancing groundwater recharge through playas, these attempts included drywells, pressurized injections wells, removing the top clay layers from playas, creating deeper pools with less surface area, and by installing geotextiles beneath playas [Guardak and Roe 2009](https://pubs.usgs.gov/circ/1333/pdf/C1333.pdf). The suspended silt in playa water caused issues with dry wells which clogged quickly with fine sediment. Geotextiles were found to be effective at filtering out some of the suspended sediment but required annual maintenance. Removing the top layer from the bottom of playas was found to be effective in the short term but the clay layer would reform over time, reducing the effectiveness of this method. Pressurized injection wells were found to be effective at enhancing recharge but were energy intesive to operate [Urban, Clayborn, and Ramsey, 1998; Guardak and Roe, 2009](https://pubs.usgs.gov/circ/1333/pdf/C1333.pdf). \n",
    "\n",
    "Other studies have focused on capturing water before it reaches playas and diverting it to managed aquifer recharge projects [Salameh et al., 2019](https://www.mdpi.com/2073-4441/11/2/182). One promising technique for enhancing recharge was tried by Norman and others [2025] within the Willcox basin. They created leaky weirs and checkdams in ephemeral streams within the mountain front. These structures slows the flow of water, retained sediment, increased water residence time by recharging shallow alluvial aquifers, and showed evidence that new water was mixxing with older water and may be recharing deeper aquifers.\n",
    "\n",
    "A detailed site analysis should be completed before implementing any of these techniques in endorheic basins in Arizona. Playas in Arizona are likely different than playas in the high plains and the Jornada basin, so techniques that were effective in those regions may not be effective in Arizona. The Willcox playa is a good candidate for further study because it is the largest playa in Arizona and has experienced significant groundwater declines. However, modifications to playas or attempts to intercept water before it reaches playas may have unintended consequences for the ecology of these important wetland habitats. Because most endorheic basins in Arizona are arid, there is less opportunity to reduce evaporation through vegetation management. However, there are some endorheic basins, such as Mormon Lake which are forested and may benefit from thinning or other vegetation management techniques to reduce ET and enhance the portion of water available for recharge. \n",
    "\n",
    "Though not technically endorheic, many areas of Arizona are underlain by karst aquifers and exhibit significant internal drainage which may offer many of the same opportunities as endorheic basins, however more work needs to be done to delineate these areas and quantify their potential for groundwater recharge. \n",
    "\n",
    "\n"
   ]
  },
  {
   "cell_type": "markdown",
   "id": "976e87e3",
   "metadata": {
    "vscode": {
     "languageId": "raw"
    }
   },
   "source": [
    "## Future Work"
   ]
  }
 ],
 "metadata": {
  "kernelspec": {
   "display_name": ".venv",
   "language": "python",
   "name": "python3"
  },
  "language_info": {
   "codemirror_mode": {
    "name": "ipython",
    "version": 3
   },
   "file_extension": ".py",
   "mimetype": "text/x-python",
   "name": "python",
   "nbconvert_exporter": "python",
   "pygments_lexer": "ipython3",
   "version": "3.13.1"
  }
 },
 "nbformat": 4,
 "nbformat_minor": 5
}
