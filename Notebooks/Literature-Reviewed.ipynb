{
 "cells": [
  {
   "cell_type": "markdown",
   "id": "37e93c33abba4074",
   "metadata": {},
   "source": [
    "**Recent global decline in endorheic basin water storages** [Wang et al., 2018](10.1038/s41561-018-0265-7)\n",
    "\n",
    "\n",
    "Endorheic basins, or basins whose surface flow is landlocked from the ocean cover about one-fifth of the earths land surface and about half in its water stressed regions. Globally Endorheic basins have seen significant declines in surface water, soil moisture, and groundwater. One study estimates that between 2002 and 2016\n",
    "endorheic basins were losing about 106.3 Gt per year globally. These losses appear to be less sensitive to ENSO driven variability and reflect longer-term warming trends.\n",
    "\n",
    "\"In the mass-conserved hydrosphere, a net endorheic water deficit not only aggravates water stress in endorheic regions, but imposes te same amount of water surplus to exorheic systems, where surface flow reaches the ocean. Therefore, a persistent total water storage decline in global endorheic basins signifies a potential source of sea-level rise.\"\n",
    "\n",
    "\n",
    "\n",
    "\n",
    "\n",
    "\n",
    "\n",
    "\n",
    "\n",
    "\n",
    "\n"
   ]
  },
  {
   "cell_type": "markdown",
   "id": "d2ab2cb6",
   "metadata": {},
   "source": [
    "**Edorheic Water: Book Chapter** [Wang, 2020](https://onlinelibrary.wiley.com/doi/10.1002/9781118786352.wbieg2001)\n",
    "\n",
    "> \" Endorheic, also endoreic, refers to hydrological conditions under which the surface drainage is terminal and landlocked. This term is the antonym of exorheic, or exoreic, meaning that the surface drainage has visible outlets to other water bodies and may ultimetly reach the ocean...IN an endorheic system, surface water flows downhill as in exorheic systems, but instead of terminating at the ocean, it converges to an indland sin which is termed an endorheic lake, terminal lake, or sometimes inland sea. Endorheic/terminal lakes ar eusually saline due to the absence of surface outlfow and the accumulation of soluble salts as water evaporations. \""
   ]
  },
  {
   "cell_type": "markdown",
   "id": "15b6f847",
   "metadata": {},
   "source": [
    "**Late Pleistocene and recent chronologies of playa lakes in Arizona and New Mexico** [Long 1966](http://hdl.handle.net/10150/190942)\n",
    "\n",
    "This paper provides a paleo chronology of Cochise Lake and the development of the willcox playa. It provides information about the soil profile from a 140ft core drilled a the center of the playa. \n",
    "\n"
   ]
  },
  {
   "cell_type": "markdown",
   "id": "8fbbc300",
   "metadata": {},
   "source": [
    "**Impact of agroecosystems on groundwater resources in the Central High Plains, USA** [Scanlon et al., 2010](10.1016/j.agee.2010.10.017)\n",
    "\n",
    "In the central high plains of the USA, recharge rates of 60 - 120mm/yr have been measured below playas and ephemeral lakes.\n",
    "\n",
    "In the central high plains, playas occupy just 0.4% of the land surface but are responsible for much of the recharge, very little recharge was found in the surrounding interplaya areas. \n",
    "\n",
    "\n",
    "\n"
   ]
  },
  {
   "cell_type": "markdown",
   "id": "1e18cfaf12b5881",
   "metadata": {},
   "source": [
    "**Recharge Rates and Chemistry Beneath Playas of the High Plains Aquifer--A Literature Review and Synthesis** [Guardak and Roe 2009](https://pubs.usgs.gov/circ/1333/pdf/C1333.pdf)\n",
    "\n",
    "This study summarized 175 publications looking at recharge rates and chemistry beneath playas and interplaya settings, they found that recharge rates beneath playas are substantially (1 to 2 orders of magnitude) higher than recharge rates between interplaya settings. They argue that playas are important zones of recharge to the High Plains Aquifers and are not strictly evporative pans.\n",
    "\n",
    "Playas have three distinct features:\n",
    "\n",
    "1. the playa floor - the flat floor which is characteristically lined with hydric soils\n",
    "2. The annulus - the slopes surface at the margin of the playa\n",
    "3. The interplaya region, which is the area between the annuli of different playas and includes the uplands the drain the playas\n",
    "\n",
    "Physical characteristics that affect recharge rates in playas that have a likely influence on recharge rates are:\n",
    "- drainage area\n",
    "- playa volume\n",
    "- depth of the playa floor\n",
    "- vertical extent of shrink-and-swell clays that line playa floors,\n",
    "- depth of sediment overlying lay-lined floors,\n",
    "- unsaturated zone sediments underlying the playa\n",
    "- depth to water table.\n",
    "\n",
    "\n",
    "They pose the unasnwered question: \"Are innovated and wetland-friendly approaches for artificial recharge beneath playas available?\"\n",
    "\n",
    "They compare and contrast **focused** and **diffuse** recharge. They define focused recharge as fast paths from the land surface through the unsaturated zone bypassing large portions of the extent of the soil and unsaturated zone.\n",
    "\n",
    "**diffuse recharge** - A type of recharg ein which precipitation or melting snow infiltrates throughout a univorm area of an aquifer, percolates relatively uniformly through the unsaturated zone, and eventually intercepts the water table. Diffuse recharge often occurs along slow flow paths.\n",
    "\n",
    "**focused recharge** - a type of recharge characterized by rapid movement of water though the soil and unsaturated zone that bypasses a large portion of the soil and unsaturated-zone matrix. Focused recharge often occurs along fast flow paths.\n",
    "\n",
    "Holes drilled into many playas in the 1930s revealed caliche layers at various depths beneath playas. Many contained sand and were relatively permeable.\n",
    "\n",
    "Infiltration rates from infiltration studies have found rates ranging from 0 to 116 inches per hour in playas, infiltration rates are highest at the center of the playa (more so than the perimeter or annulus) and were much faster than in the interplaya zone. High infiltration rates near the center have been attributed to preferential flow along desication cracks in the clay floor (see Zartman and others 1996).\n",
    "\n",
    "![Gaudak and Roe 2009 - Recharge Rates for Playas in the High Plains](Images/playa.png)\n",
    "\n",
    "##### Playas and artificial recharge:\n",
    "\n",
    "Several studies have examined the effects of modifying playa floors to enhance artificial recharge.\n",
    "- first systematic evaluation of use of playas for artificial recharge in high plains was Brown and others (1978)\n",
    "- Drywells have been relatively unsuccessful because the high silt content of playa waters quickly clogs wells and the sediments in the aquifer. (claborn and others, 1985), though pressure injection sort of worked.\n",
    "- Confining water in deeper impoundments with less surface area has been tried (Dvoracek, 1981)\n",
    "- Artificial recharge from playa lakes is more likely to be successful if he recharge zones have high infiltration rates and no clay or low-permeability zones in the vadose zone and if water is silt free.\n",
    "- Schneider and Jones (1984) attempted to excavate the top layer of the playa and reported rapid infiltration rates at first but that they slowed quickly as sediment sealed the playa surfaces once again.\n",
    "- Installing geotextile materials beneath playas had some success in filtering out sediments that caused sealing.\n",
    "\n",
    "> \"Playas are ephemeral, closed-basin wetlands that are important zones of recharge to the High Plains (or Ogallala) aquifer and critical habitat for birds and other wildlife in the otherwise  semi-arid, shortgrass praire and agricultural landscape\"\n",
    "\n",
    "> \"**Playas help recharge the High Plains aquifer.** Most playas represent fast pathways for recharge and provide an important component of recharge to the High Plains aquifer.\n",
    "\n",
    "> \"The terms infiltration and recharge are not equivalent but are commonly used interchangeably in the literature. Our literature search indicates that many authors commonly use the terms *infiltration* and *recharge* interchangeably. However, the two terms are not synonymous. Infiltration of water from playa or interplaya settings into the subsurface does not necessarily guarantee that the infiltrating water will intercept the water table as recharge.\"\n",
    "\n",
    "> \"Given the ecological\timportance of unmodified playa wetlands to the biodiversity of the Great Plains region and the substantial infiltration rates\treported for some natural playas, cost-benefit analyses for artificial recharge need to consider any added improvements that playa modification may have on\trates\tof\t infiltration and recharge that\texceed the\trates reported\tfor\t unmodified\tplayas.\tTherefore, considerations of playa modification\tfor\tartificial recharge need to weigh the costs associated with the difference between the estimated recharge rate under modified playas and the recharge rate under natural playas.\"\n",
    "\n",
    "\n",
    "\n"
   ]
  },
  {
   "cell_type": "markdown",
   "id": "9afe8a3561573256",
   "metadata": {},
   "source": [
    "**Multidecadal drought impacts on the Lower Colorado Basin with implications for future management** [Scanlon et al. 2025](10.1038/s43247-025-02149-9)\n",
    "\n",
    "- Wilcox playa in southeastern Arizona has seen up to 1.2m of subsidence from 2010 - 2024, and up to 3m from 1969 - 2023, the highest rate of subsidence in the lower colorado river basin.\n",
    "\n",
    "- 20 - 50m declines in groundwater level have been observed in the Wilcox and San simon basins both have seen subsidence and fissuring or earth cracks.\n",
    "\n",
    "- Total Water storage loss in the lower colorado basin, as evidenced by GRACE data, shows declines which exceed the capacity of Lake Mead by 40%, 60% of that decline comes from depletions in groundwater."
   ]
  },
  {
   "cell_type": "markdown",
   "id": "32b3e70e8afcc502",
   "metadata": {},
   "source": [
    "**Groundwater recharge in desert playas: current rates and future effects of climate change** [McKenna and Sala 2018](10.1088/1748-9326/aa9eb6)\n",
    "\n",
    "Groundwater recharge was found to occur in all sampled playas with rates of between 0.1 and 28mm/yr in 15 sampled playas in the Jornada del Muerto aquifer of SE New Mexico. Differences in recharge rates were correlated to the size, slope, and soil texture of each catchment, though not the vegetation within the catchment.\n",
    "\n",
    "Recharge rates increased with area, slope, and decreased with percent sand of a catchment.\n",
    "\n",
    "Researchers found that because climate change was likely to increase variability in precipitation and increase the number of large storms which lead to playa runon, or flow onto the playa, it is likely that climate change will increase groundwater recharge in playas.\n",
    "\n",
    "> \"Our results indicated that climate-change induced increases in precipitaiton variability would have a larger impact on playa groundwater recharge than projected decreases in mean annual precipitation.\"\n",
    "\n",
    "**Note this study focused only on changes in precipitation, not how ET could affect playa-mediated groundwater recharge.**\n",
    "\n",
    "\n",
    "\n",
    "\n"
   ]
  },
  {
   "cell_type": "markdown",
   "id": "48d542ca",
   "metadata": {},
   "source": [
    "**Playa Lakes in the Southern High Plains: Runoff, Infiltration, and Recharge** [Weinberg et al., 2021]()\n",
    "\n",
    "This study found measurable infiltration at all studied playas with infiltration rates ranging from 0.04 to over 0.8 inches per day. These rates varied as a function of flood depth, soil texture, and soil type. \n",
    "\n",
    "Most infiltration occured as flow through the poroous matrix of the soil rather than through macropores and crocks, Macro-pore infiltration is important only for a short period when runoff enters a previously dry playa. They found taht macro-pores contribute little, if any to percolation or techarge as most of the water that enters macro-pores is taken up by rewetting the dry near-surface soils.\n",
    "\n",
    "> \"Recharge systems could potentially capture much of the water currently lost to evaporation, though the cost of constructing and maintaining recharg systems is high relative to the volume available. Projects using recharge from large, deep playas to supplement small public water systems may be economically viable. Upland recharge basins taking advantage of higher inter-basin percolation rates and free or low-cost nighttime electricity may be more feasible than direct modification of playa basins themselves.\"\n",
    "\n",
    "> \"infiltration rates increase with flood depth because of increased hydraulic gradients and the presence of higher permeability soils around th eplaya margins.\"\n",
    "\n",
    "> \"Playa soils are classified as Vertisols and have strong shrink-swell behavior in response to drying and wetting. Dry playa soils develop a network of large cracks that allow rapid infiltration of runoff  In late 2011, at the height of the severe drought in Texas that year, cracks in some playas were three to four inches wide and over three feet deep. Large amounts of water enter the soil rapidly when runoff first flows into such desiccated playas. For the first few hours of a flood event, and especially for small flood events in initially dry playas, crack flow dominates the water budget, resulting in very high infiltration rates. However, data from this project suggests that these high infiltration rates last less than one day and only affect the top six to nine feet of soil. Furthermore, infiltrated water stored in the top six to nine feet of soil is subject to evapotranspiration and does not percolate deeper into the soil profile unless more water is supplied by interstitial infiltration.\"\n",
    "\n",
    "> \"During the entire flood event, the soil at 12- and 20-foot depth continued to lose moisture very gradually. These observations suggest that surface cracks begin to close within a few hours after runoff enters a playa and stop transmitting water through the soil well before the entire soil profile is saturated.\"\n",
    "\n",
    "\n",
    "\n"
   ]
  },
  {
   "cell_type": "markdown",
   "id": "f365463e",
   "metadata": {},
   "source": [
    "**Opporunities for Artificial Recharge** [Valliant 1975]\n",
    "\n",
    "> \"A 100-acre playa lake can lose an averag eof 600 gallons every minute during July (to evaporation).\"\n",
    "\n",
    "- Suggests using pressure injection to recharge playas\n",
    "\n"
   ]
  },
  {
   "cell_type": "markdown",
   "id": "81d555f7",
   "metadata": {},
   "source": [
    "**A Water Resource Assessment of the Playa Lakes of the Texas High Plains** [Weinberg et al., 2015]()\n",
    "\n",
    "This study was meant to monitor initial conditions of playa inundation and water storage and was to be followed up with a study of how modificaitons to playas might reduce evporation and enhance recharge. Phase 2 was not funded. \n",
    "\n"
   ]
  },
  {
   "cell_type": "markdown",
   "id": "a14ac8a8",
   "metadata": {},
   "source": [
    "**Aquifer recharge utilizing playa lake water and filter underdrains phase IV** [Urban, Clayborn, and Ramsey 1988]()\n",
    "\n",
    "Recharging playa lake water is technically viable. However attempts to utilize dry wells with playa water directly are stifled by water-borne silt clogging and sealing. Injection wells seem to work but require costly pumping. Using underplaya drains with geotextile filters can work, but continous maintenance was required to keep the filter beds clean and unclogged.\n",
    "\n"
   ]
  },
  {
   "cell_type": "markdown",
   "id": "950e03b8",
   "metadata": {},
   "source": [
    "**Planning Coniderations of Managed Aquifer Recharge (MAR) Projects in Jordan** [Salameh et al., 2019](10.3390/w11020182)\n",
    "\n",
    "This paper discusses considerations when planning MAR projects in Jordan. One of their key strategies for enhancing recharge to to slow water and recharge it before reaching playas. They suggest using weirs and check dams which help alleivate sedimentation a major problem for recharge projects in semi-arid regions.\n",
    "\n"
   ]
  },
  {
   "cell_type": "markdown",
   "id": "86c64cb7",
   "metadata": {
    "vscode": {
     "languageId": "plaintext"
    }
   },
   "source": [
    "**A Spatiotemporal Characterization of Water Resource Conditions and Demands as Influenced by the Hydrogeologic Framework of the Willcox Groundwater Basin, Southeastern Arizona, USA** [Job et al., 2023](10.3390/geosciences13060176)\n",
    "\n",
    "- They attribute most of the Willcox Basin's groundwater recharge to runoff and seepage along the mountain fronts. They estimated annual recharge between 0.02 and 0.06 cubic Kilometers per year\n",
    "\n"
   ]
  },
  {
   "cell_type": "markdown",
   "id": "7eabf2b3",
   "metadata": {},
   "source": [
    "**Integrated Science Strategy for Assessing and Monitoring Water Availability and Migratory Birds for Terminal Lakes Across the Great Basin, United States**[Frus et al., 2025](https://doi.org/10.5066/P9Q9LQ4B)\n",
    "\n",
    "This paper discusses the importance of Terminal lakes as habitat particularly for migratory birds. \n"
   ]
  },
  {
   "cell_type": "markdown",
   "id": "823e0198",
   "metadata": {},
   "source": [
    "**“Leaky Weirs” capture alluvial deposition and enhance seasonal mountain-front recharge in dryland streams**[Norman et al., 2025](10.1007/s13201-025-02371-y)\n",
    "\n",
    "The installation of leaky weirs in ephemeral streams in the willcox basin promode sediment demosition, create ephemeral ponds that increace residence time and create shallow alluvial aquifers. Tritium and 14C isitopes indicate mardern recharge near leaky wears and younger water in nearby wells and springs. This study also found 14C values which relected a mix of modern and older water supporting the idea that mountain-front recharge has been recently enhanced. These weirs reduced downstream peak flows and increase the retention time of water in these dry soils for periods of nearly a month which may enhance groundwater recharge. \n",
    "\n"
   ]
  },
  {
   "cell_type": "markdown",
   "id": "5bbbd7c0bfca1524",
   "metadata": {},
   "source": [
    "## Sources\n",
    "\n",
    "GIS for Surface Water: Using the Hydrography Dataset by Jeff Simley (2018) Identifiers: LCCN 2018001058 (print) | LCCN 2018006837 (ebook) | ISBN    9781589484917 (ebook) | ISBN 9781589484795"
   ]
  }
 ],
 "metadata": {
  "kernelspec": {
   "display_name": ".venv",
   "language": "python",
   "name": "python3"
  },
  "language_info": {
   "codemirror_mode": {
    "name": "ipython",
    "version": 3
   },
   "file_extension": ".py",
   "mimetype": "text/x-python",
   "name": "python",
   "nbconvert_exporter": "python",
   "pygments_lexer": "ipython3",
   "version": "3.13.1"
  }
 },
 "nbformat": 4,
 "nbformat_minor": 5
}
